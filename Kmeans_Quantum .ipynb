{
 "cells": [
  {
   "cell_type": "markdown",
   "metadata": {},
   "source": [
    "**Team Members:**<br>\n",
    "\n",
    "1- Maha Magdi AbdelHamid Hassan <br>\n",
    "2- Ahmed Reda Zalat<br>\n",
    "3- Ahmed Osama Abdellatif Alkadi\n",
    "\n",
    "**ITI Alexandria Branch**<br>"
   ]
  },
  {
   "cell_type": "markdown",
   "metadata": {},
   "source": [
    "## Quantum Clustering\n"
   ]
  },
  {
   "cell_type": "markdown",
   "metadata": {},
   "source": [
    "## TASK!\n",
    "\n",
    "Implement a quantum clustering algorithm using the above steps to cluster a dataset of your own choice.\n",
    "- *I would prefer two clusters only but do as you wish.*\n",
    "- Use Numpy only.\n",
    "- Before each cell I want a small description of what is happening.\n",
    "- Write your code in functions.\n",
    "- Each function should execute one operation only.\n",
    "- Annotate your code and document it.\n"
   ]
  },
  {
   "cell_type": "markdown",
   "metadata": {},
   "source": [
    "#### Import important libraries"
   ]
  },
  {
   "cell_type": "code",
   "execution_count": 1,
   "metadata": {},
   "outputs": [],
   "source": [
    "\n",
    "import numpy as np\n",
    "import seaborn as sns\n",
    "import matplotlib.pyplot as plt\n",
    "from qiskit.visualization import array_to_latex\n",
    "from qiskit.circuit.library import RYGate"
   ]
  },
  {
   "cell_type": "markdown",
   "metadata": {},
   "source": [
    "## The K-means functions "
   ]
  },
  {
   "cell_type": "markdown",
   "metadata": {},
   "source": [
    "### Initialize the state of a qubit to a specific quantum state."
   ]
  },
  {
   "cell_type": "code",
   "execution_count": 2,
   "metadata": {},
   "outputs": [],
   "source": [
    "def init_state() -> np.ndarray:\n",
    "\n",
    "  \"\"\"\n",
    "  Returns:\n",
    "  - state (np.ndarray): A 2D numpy array representing the state vector of the qubit,\n",
    "    where |0⟩ = [1, 0]^T (column vector).\n",
    "\n",
    "    \n",
    "  This function initializes the state of a qubit to a specific quantum state.\n",
    "  By default, it initializes the qubit to the |0⟩ state.\n",
    "\n",
    "  \"\"\"\n",
    "\n",
    "  state = np.array([[1], [0]])\n",
    "\n",
    "  return state\n"
   ]
  },
  {
   "cell_type": "markdown",
   "metadata": {},
   "source": [
    "### Encode input data into quantum states using RY gate operations."
   ]
  },
  {
   "cell_type": "code",
   "execution_count": 3,
   "metadata": {},
   "outputs": [],
   "source": [
    "\n",
    "def encode_data(data: np.ndarray) -> np.ndarray:\n",
    "    \"\"\"\n",
    "    Encode the input data using quantum gates.\n",
    "\n",
    "    Parameters:\n",
    "    - data: Input data to be encoded.\n",
    "\n",
    "    This function encodes each data point in the input `data` into a quantum state\n",
    "    using RX gate operations. Each data point is used to specify the rotation angle \n",
    "    of an RX gate, and the resulting quantum state is obtained by applying the RX gate \n",
    "    to the initialized ground state (|0⟩).\n",
    "\n",
    "    The encoded quantum states are collected and returned as a numpy array of shape (n_points, 2),\n",
    "    where each row corresponds to a quantum state represented by a 2D vector.\n",
    "\n",
    "    Returns:\n",
    "    - evovled_state.real: Encoded data represented as a numpy array.\n",
    "    \"\"\"\n",
    "\n",
    "    # Initialize the quantum state\n",
    "    state = init_state()\n",
    "\n",
    "    # Initialize an empty list to store the evolved quantum states\n",
    "    evolved_state = []\n",
    "\n",
    "    # Iterate over each data point\n",
    "    for i in data:\n",
    "        # Apply the quantum gate operation based on the data point\n",
    "        rx = RYGate(float(i)).to_matrix()\n",
    "\n",
    "        # Evolve the quantum state using the gate operation\n",
    "        evovled_s = rx @ state\n",
    "\n",
    "        # Append the evolved quantum state to the list\n",
    "        evolved_state.append(evovled_s)\n",
    "\n",
    "    # Reshape the list of evolved states into a numpy array\n",
    "    # and extract the real part of the complex numbers\n",
    "    evovled_state = np.array(evolved_state).reshape(-1, 2)\n",
    "\n",
    "    # Return the real part of the evolved quantum state as the encoded data\n",
    "    return evovled_state.real\n"
   ]
  },
  {
   "cell_type": "markdown",
   "metadata": {},
   "source": [
    "### Initialize centroids for K-means clustering algorithm."
   ]
  },
  {
   "cell_type": "code",
   "execution_count": 4,
   "metadata": {},
   "outputs": [],
   "source": [
    "\n",
    "def KmeansInitCentroids(data: np.ndarray, clusters: int, r: int = 45) -> np.ndarray:\n",
    "    \"\"\"\n",
    "    Initialize centroids for K-means clustering.\n",
    "\n",
    "    Parameters:\n",
    "    - data: Input data array of shape (n_samples, n_features).\n",
    "    - clusters: Number of clusters to generate centroids for.\n",
    "    - r: Random seed for reproducibility. Default is 45.\n",
    "\n",
    "    Returns:\n",
    "    - centroids: Array of centroids with shape (clusters, n_features).\n",
    "    \"\"\"\n",
    "\n",
    "    # Set the random seed for reproducibility\n",
    "    np.random.seed(r)\n",
    "\n",
    "    # Generate random indices to select initial centroids\n",
    "    randidx = np.random.choice(data.shape[0], clusters, replace=False)\n",
    "\n",
    "    # Select data points corresponding to the random indices as centroids\n",
    "    centroids = data[randidx]\n",
    "\n",
    "    return centroids\n"
   ]
  },
  {
   "cell_type": "markdown",
   "metadata": {},
   "source": [
    "### Calculate the fidelity (inner product) between two quantum states and return maximum fidelity"
   ]
  },
  {
   "cell_type": "code",
   "execution_count": 5,
   "metadata": {},
   "outputs": [],
   "source": [
    "\n",
    "def CalculateFidelity(data: np.ndarray, centroids: np.ndarray) -> np.ndarray:\n",
    "    \"\"\"\n",
    "    Calculate fidelity scores and assign labels to data points based on centroid proximity.\n",
    "\n",
    "    Parameters:\n",
    "    - data: Input data array of shape (n_samples, n_features).\n",
    "    - centroids: Array of centroids with shape (n_clusters, n_features).\n",
    "\n",
    "    Returns:\n",
    "    - labels: Array of labels assigned to each data point based on centroid proximity.\n",
    "    \"\"\"\n",
    "\n",
    "    # Compute the inner product between data points and centroids\n",
    "    inner_product = np.dot(data, centroids.T).real\n",
    "\n",
    "    # Calculate fidelity scores based on absolute squared inner product\n",
    "    fidelity = np.abs(inner_product) ** 2\n",
    "\n",
    "    # Assign labels to data points based on the index of the maximum fidelity score\n",
    "    labels = np.argmax(fidelity, axis=1)\n",
    "\n",
    "    return labels\n"
   ]
  },
  {
   "cell_type": "markdown",
   "metadata": {},
   "source": [
    "###  Compute new centroids by computing the means of the data points assigned to each centroid."
   ]
  },
  {
   "cell_type": "code",
   "execution_count": 6,
   "metadata": {},
   "outputs": [],
   "source": [
    "\n",
    "def UpdateCentroids(data: np.ndarray, labels: np.ndarray, centroids: np.ndarray) -> np.ndarray:\n",
    "    \"\"\"\n",
    "    Update centroids based on assigned labels.\n",
    "\n",
    "    Parameters:\n",
    "    - data: Input data array of shape (n_samples, n_features).\n",
    "    - labels: Array of cluster labels for each data point.\n",
    "    - centroids: Array of current centroids with shape (n_clusters, n_features).\n",
    "\n",
    "    Returns:\n",
    "    - n_centroids: Updated centroids based on the mean of data points in each cluster,\n",
    "                   with shape (n_clusters, n_features).\n",
    "    \"\"\"\n",
    "\n",
    "    # Initialize an array to store the new centroids\n",
    "    n_centroids = np.zeros((centroids.shape[0], data.shape[1]))\n",
    "\n",
    "    # Iterate over each centroid\n",
    "    for i in range(centroids.shape[0]):\n",
    "        # Calculate the mean of data points assigned to the current centroid\n",
    "        n_centroids[i] = np.mean(data[(labels == i)], axis=0)\n",
    "\n",
    "    return n_centroids\n"
   ]
  },
  {
   "cell_type": "markdown",
   "metadata": {},
   "source": [
    "### Perform K-means clustering algorithm on the given dataset."
   ]
  },
  {
   "cell_type": "code",
   "execution_count": 7,
   "metadata": {},
   "outputs": [],
   "source": [
    "\n",
    "def Kmeans(data: np.ndarray, clusters: int, max_iters: int, r: int = 42) -> (np.ndarray, np.ndarray):\n",
    "    \"\"\"\n",
    "    Perform K-means clustering algorithm.\n",
    "\n",
    "    Parameters:\n",
    "    - data: Input data array of shape (n_samples, n_features).\n",
    "    - clusters: Number of clusters to create.\n",
    "    - max_iters: Maximum number of iterations for the algorithm.\n",
    "    - r: Seed for random number generation.\n",
    "\n",
    "    Returns:\n",
    "    - decode_centroids: Decoded centroids after clustering, with shape (n_clusters, n_features).\n",
    "    - labels: Array of cluster labels for each data point.\n",
    "    \"\"\"\n",
    "\n",
    "    # Encode input data\n",
    "    data_e = encode_data(data)\n",
    "\n",
    "    # Initialize centroids\n",
    "    centroids = KmeansInitCentroids(data_e, clusters, r)\n",
    "\n",
    "    # Iterate over maximum number of iterations\n",
    "    for i in range(max_iters):\n",
    "        # Calculate cluster labels based on fidelity\n",
    "        labels = CalculateFidelity(data_e, centroids)\n",
    "\n",
    "        # Update centroids based on assigned labels\n",
    "        centroids = UpdateCentroids(data_e, labels, centroids)\n",
    "\n",
    "        # Decode centroids\n",
    "        decode_centroids = (np.arccos(centroids[:, 0]).reshape(-1, 1)) * 2\n",
    "\n",
    "    return decode_centroids, labels\n"
   ]
  },
  {
   "cell_type": "markdown",
   "metadata": {},
   "source": [
    "### Prediction Function "
   ]
  },
  {
   "cell_type": "code",
   "execution_count": 48,
   "metadata": {},
   "outputs": [],
   "source": [
    "\n",
    "\n",
    "def predict(points, centroids):\n",
    "    \"\"\"\n",
    "    Predict the cluster labels for given points based on the provided centroids.\n",
    "\n",
    "    Parameters:\n",
    "    - points: Array of data points to be classified, shape (n_points, 2).\n",
    "    - centroids: Array of centroids representing the cluster centers, shape (n_centroids, 2).\n",
    "\n",
    "    Returns:\n",
    "    - labels: Array of cluster labels assigned to each point, shape (n_points,).\n",
    "    \"\"\"\n",
    "    # Encode the points and centroids for quantum processing\n",
    "    encoded_points = encode_data(points)\n",
    "    encoded_centroids = encode_data(centroids)\n",
    "    \n",
    "    # Calculate the fidelity between the encoded points and centroids\n",
    "    labels = CalculateFidelity(encoded_points, encoded_centroids)\n",
    "\n",
    "    for i in range(len(points)):\n",
    "        print(f\"Point {points[i]} is in cluster {labels[i]}\")\n",
    "    \n",
    "    return labels\n",
    "\n"
   ]
  },
  {
   "cell_type": "markdown",
   "metadata": {},
   "source": [
    "### Split Function"
   ]
  },
  {
   "cell_type": "code",
   "execution_count": 9,
   "metadata": {},
   "outputs": [],
   "source": [
    "def Kmeans_split(data, ratio):\n",
    "    \"\"\"\n",
    "    Split the input data array into two arrays based on the given ratio.\n",
    "\n",
    "    Parameters:\n",
    "    - data: Input data array to be split.\n",
    "    - ratio: Ratio indicating the proportion of the first array relative to the second.\n",
    "\n",
    "    Returns:\n",
    "    - array_1: First array containing a portion of the input data, based on the ratio.\n",
    "    - array_2: Second array containing the remaining portion of the input data.\n",
    "    \"\"\"\n",
    "    # Calculate the inverse of the ratio\n",
    "    inv = 1 / ratio\n",
    "    \n",
    "    # Calculate the lengths of the two arrays based on the ratio\n",
    "    len1 = int(len(data) // inv)\n",
    "    len2 = len(data) - len1\n",
    "    \n",
    "    # Split the input data array into two arrays based on the calculated lengths\n",
    "    array_1 = data[:len1]\n",
    "    array_2 = data[len1:len1 + len2]\n",
    "    \n",
    "    return array_1, array_2\n"
   ]
  },
  {
   "cell_type": "markdown",
   "metadata": {},
   "source": [
    "## Auxiliary functions"
   ]
  },
  {
   "cell_type": "markdown",
   "metadata": {},
   "source": [
    "### Generate synthetic data points for two clusters ."
   ]
  },
  {
   "cell_type": "code",
   "execution_count": 10,
   "metadata": {},
   "outputs": [],
   "source": [
    "\n",
    "def CreateDataSet(n_points: int, x1: int, x2: int, s: int, rand=42) -> np.ndarray:\n",
    "    \n",
    "    \"\"\"\n",
    "    Create a synthetic dataset by sampling from normal distributions.\n",
    "\n",
    "    Parameters:\n",
    "    - n: Number of samples to generate for each class.\n",
    "    - x1: Mean of the normal distribution for the first class.\n",
    "    - x2: Mean of the normal distribution for the second class.\n",
    "    - s: Standard deviation of the normal distribution (common for both classes).\n",
    "    - rand: Random seed for reproducibility.\n",
    "\n",
    "    Returns:\n",
    "    - data: Concatenated dataset containing samples from both classes.\n",
    "    \"\"\"\n",
    "\n",
    "    # Set random seed for reproducibility\n",
    "    np.random.seed(rand)\n",
    "\n",
    "    # Generate samples from normal distributions for each class\n",
    "    d1 = np.random.normal(x1, s, n_points)  # Samples for class 1\n",
    "    d2 = np.random.normal(x2, s, n_points)  # Samples for class 2\n",
    "\n",
    "    # Concatenate the samples from both classes to form the dataset\n",
    "    data = np.concatenate((d1, d2))\n",
    "\n",
    "    # Return the concatenated dataset\n",
    "    return data\n",
    "\n"
   ]
  },
  {
   "cell_type": "markdown",
   "metadata": {},
   "source": [
    "### Preprocessing the input data"
   ]
  },
  {
   "cell_type": "code",
   "execution_count": 11,
   "metadata": {},
   "outputs": [],
   "source": [
    "\n",
    "def ScaleData(data: np.ndarray, upper_limit: float = (.5 * 3.14)) -> np.ndarray:\n",
    "    \"\"\"\n",
    "    Scale the input data to a specified upper limit.\n",
    "\n",
    "    Parameters:\n",
    "    - data: Input data array to be scaled.\n",
    "    - upper_limit: Upper limit to which the data should be scaled.\n",
    "\n",
    "    Returns:\n",
    "    - scaled_data: Scaled data array with values between 0 and the upper limit.\n",
    "    \"\"\"\n",
    "\n",
    "    # Scale the input data\n",
    "    scaled_data = ((data - np.min(data)) * upper_limit) / (np.max(data) - np.min(data))\n",
    "\n",
    "    return scaled_data\n"
   ]
  },
  {
   "cell_type": "markdown",
   "metadata": {},
   "source": [
    "### Descale the data points "
   ]
  },
  {
   "cell_type": "code",
   "execution_count": 12,
   "metadata": {},
   "outputs": [],
   "source": [
    "\n",
    "def DeScaleData(points: np.ndarray, data: np.ndarray, upper_limit: float = (.5 * 3.14)) -> np.ndarray:\n",
    "    \"\"\"\n",
    "    De-scale the points back to the original data range.\n",
    "\n",
    "    Parameters:\n",
    "    - points: Scaled data points to be de-scaled.\n",
    "    - data: Original data range used for scaling.\n",
    "    - upper_limit: Upper limit value used for scaling (default is half of pi).\n",
    "\n",
    "    Returns:\n",
    "    - De-scaled data points array.\n",
    "    \"\"\"\n",
    "\n",
    "    # De-scale the input data using the formula\n",
    "    descaled_data = ((points * (np.max(data) - np.min(data))) / upper_limit) + np.min(data)\n",
    "\n",
    "    return descaled_data\n"
   ]
  },
  {
   "cell_type": "markdown",
   "metadata": {},
   "source": [
    "### Plotting funtion "
   ]
  },
  {
   "cell_type": "code",
   "execution_count": 13,
   "metadata": {},
   "outputs": [],
   "source": [
    "\n",
    "def PlotKmeans(data: np.ndarray, centroids: np.ndarray, labels: np.ndarray) -> None:\n",
    "    \n",
    "    \"\"\"\n",
    "    Plot the data points with their respective labels and centroids.\n",
    "\n",
    "    Parameters:\n",
    "    - data: Input data points array.\n",
    "    - centroids: Centroid points array.\n",
    "    - labels: Array of labels assigned to each data point.\n",
    "\n",
    "    \"\"\"\n",
    "\n",
    "    # Generate y-values for data points (all zeros)\n",
    "    y = np.zeros(data.shape[0])\n",
    "\n",
    "    # Plot the data points with colors based on their labels\n",
    "    sns.scatterplot(x=data, y=y, hue=labels, palette=sns.color_palette(\"hls\", centroids.shape[0]))\n",
    "\n",
    "    # Plot centroids as black markers\n",
    "    sns.scatterplot(x=centroids.flatten(), y=np.zeros(centroids.shape[0]), color=\"black\", s=100, marker=\"X\")\n",
    "\n",
    "    # Set plot title\n",
    "    plt.title(\"K-means Clustering\")\n",
    "\n",
    "    # Set x-axis label  \n",
    "    plt.xlabel(\"Data Points values\")\n",
    "\n",
    "    # Show the plot\n",
    "    plt.show()\n"
   ]
  },
  {
   "cell_type": "markdown",
   "metadata": {},
   "source": [
    "## Test Case 1 \n",
    "\n",
    "- Number of clusters = 2\n",
    "- Number of points = 150 \n"
   ]
  },
  {
   "cell_type": "code",
   "execution_count": 14,
   "metadata": {},
   "outputs": [],
   "source": [
    "\n",
    "# Generate dataset with 150 samples, mean of 7 and 4, standard deviation of 0.5 and seed 20\n",
    "data = CreateDataSet(150, 7, 4, 0.5,rand=20)\n",
    "# data\n"
   ]
  },
  {
   "cell_type": "code",
   "execution_count": 15,
   "metadata": {},
   "outputs": [
    {
     "data": {
      "text/plain": [
       "(8.047332669041223, 2.742322861855773)"
      ]
     },
     "execution_count": 15,
     "metadata": {},
     "output_type": "execute_result"
    }
   ],
   "source": [
    "data.max(), data.min()"
   ]
  },
  {
   "cell_type": "code",
   "execution_count": 16,
   "metadata": {},
   "outputs": [],
   "source": [
    "\n",
    "# Scale the data to a range of 0 to ( 3.14 /2 ) the default upper limit\n",
    "s_data = ScaleData(data)\n",
    "# s_data"
   ]
  },
  {
   "cell_type": "code",
   "execution_count": 17,
   "metadata": {},
   "outputs": [],
   "source": [
    "\n",
    "# Compute the K-means clustering with 2 clusters, 100 iterations and seed 42 (default value)\n",
    "centeriod, labels = Kmeans(s_data, 2, 100, r=42)\n",
    "# labels"
   ]
  },
  {
   "cell_type": "code",
   "execution_count": 18,
   "metadata": {},
   "outputs": [],
   "source": [
    "\n",
    "# De-Scale the data to the original range\n",
    "De_centeriod = DeScaleData(centeriod,data)"
   ]
  },
  {
   "cell_type": "code",
   "execution_count": 19,
   "metadata": {},
   "outputs": [
    {
     "data": {
      "image/png": "[encoded data removed]",
      "text/plain": [
       "<Figure size 640x480 with 1 Axes>"
      ]
     },
     "metadata": {},
     "output_type": "display_data"
    }
   ],
   "source": [
    "\n",
    "# Draw the cluster plot\n",
    "PlotKmeans(data, De_centeriod, labels)\n"
   ]
  },
  {
   "cell_type": "markdown",
   "metadata": {},
   "source": []
  },
  {
   "cell_type": "markdown",
   "metadata": {},
   "source": [
    "## Test Case 2\n",
    "\n",
    "- Number of clusters = 3\n",
    "- Number of points = 100 \n"
   ]
  },
  {
   "cell_type": "code",
   "execution_count": 42,
   "metadata": {},
   "outputs": [],
   "source": [
    "\n",
    "# Generate dataset with 150 samples, mean of 7 and 3, standard deviation of 0.5 and seed 64\n",
    "data = CreateDataSet(100, 6, 3, 0.5 , rand=64)\n",
    "# data\n"
   ]
  },
  {
   "cell_type": "code",
   "execution_count": 43,
   "metadata": {},
   "outputs": [],
   "source": [
    "\n",
    "# Scale the data to a range of 0 to ( 3.14 )\n",
    "s_data = ScaleData(data ,3.14)\n",
    "# s_data"
   ]
  },
  {
   "cell_type": "code",
   "execution_count": 44,
   "metadata": {},
   "outputs": [],
   "source": [
    "\n",
    "# Compute the K-means clustering with 3 clusters, 100 iterations and seed 16\n",
    "centeriod, labels = Kmeans(s_data, 3, 100, r=16)\n",
    "# labels"
   ]
  },
  {
   "cell_type": "code",
   "execution_count": 45,
   "metadata": {},
   "outputs": [],
   "source": [
    "\n",
    "# De-Scale the data to the original range\n",
    "De_centeriod = DeScaleData(centeriod, data, 3.14 )"
   ]
  },
  {
   "cell_type": "code",
   "execution_count": 46,
   "metadata": {},
   "outputs": [
    {
     "data": {
      "image/png": "[encoded data removed]",
      "text/plain": [
       "<Figure size 640x480 with 1 Axes>"
      ]
     },
     "metadata": {},
     "output_type": "display_data"
    }
   ],
   "source": [
    "\n",
    "# Draw the cluster plot\n",
    "PlotKmeans(data, De_centeriod, labels)\n"
   ]
  },
  {
   "cell_type": "code",
   "execution_count": 49,
   "metadata": {},
   "outputs": [
    {
     "name": "stdout",
     "output_type": "stream",
     "text": [
      "Point 2.0 is in cluster 0\n",
      "Point 3.5 is in cluster 2\n",
      "Point 5.5 is in cluster 1\n",
      "Point 6.5 is in cluster 1\n"
     ]
    },
    {
     "name": "stderr",
     "output_type": "stream",
     "text": [
      "C:\\Users\\AHMED OSAMA\\AppData\\Local\\Temp\\ipykernel_11208\\2608492390.py:29: DeprecationWarning: Conversion of an array with ndim > 0 to a scalar is deprecated, and will error in future. Ensure you extract a single element from your array before performing this operation. (Deprecated NumPy 1.25.)\n",
      "  rx = RYGate(float(i)).to_matrix()\n"
     ]
    },
    {
     "data": {
      "text/plain": [
       "array([0, 2, 1, 1], dtype=int64)"
      ]
     },
     "execution_count": 49,
     "metadata": {},
     "output_type": "execute_result"
    }
   ],
   "source": [
    "predict(np.array([2,3.5,5.5,6.5]), De_centeriod)"
   ]
  },
  {
   "cell_type": "code",
   "execution_count": null,
   "metadata": {},
   "outputs": [],
   "source": []
  },
  {
   "cell_type": "markdown",
   "metadata": {},
   "source": [
    "## Test Case 3\n",
    "\n",
    "- Number of clusters = 2\n",
    "- Number of points = 150 \n",
    "- Split .2 to test \n"
   ]
  },
  {
   "cell_type": "code",
   "execution_count": 25,
   "metadata": {},
   "outputs": [],
   "source": [
    "\n",
    "# Generate dataset with 150 samples, mean of 7 and 4, standard deviation of 0.5 and seed 20\n",
    "data = CreateDataSet(150, 7, 4, 0.5,rand=20)\n",
    "# data\n"
   ]
  },
  {
   "cell_type": "code",
   "execution_count": 26,
   "metadata": {},
   "outputs": [],
   "source": [
    "# split the data into two parts\n",
    "data_1, data_2 = Kmeans_split(data, 0.8)\n",
    "# data_1\n",
    "# data_2"
   ]
  },
  {
   "cell_type": "code",
   "execution_count": 33,
   "metadata": {},
   "outputs": [
    {
     "data": {
      "text/plain": [
       "array([3.61296258, 3.4645388 , 3.68653133, 3.46131843, 4.63848992,\n",
       "       4.17323067, 3.93884203, 4.10958479, 4.07173354, 4.71742238,\n",
       "       4.5276822 , 4.55764647, 4.9005032 , 3.90279059, 3.57890648,\n",
       "       3.42591266, 3.58422803, 3.6636267 , 4.33505823, 3.42556366,\n",
       "       3.8660463 , 3.52421869, 3.21496568, 4.49299005, 4.46198908,\n",
       "       3.19930957, 3.85161233, 4.59468395, 3.83334954, 4.46418099,\n",
       "       3.63888079, 5.06085643, 3.65418791, 4.19776915, 3.81404606,\n",
       "       3.48029133, 4.24592029, 4.50185429, 3.86721312, 3.47970345,\n",
       "       3.91784936, 4.19703126, 3.88416009, 3.87618705, 3.80668385,\n",
       "       4.0114509 , 3.64372794, 4.1617608 , 3.52065671, 3.83316766,\n",
       "       3.41846695, 4.37988769, 4.45487834, 4.7232608 , 3.81157076,\n",
       "       3.93576287, 3.76123366, 3.93889876, 4.1038275 , 3.92536705])"
      ]
     },
     "execution_count": 33,
     "metadata": {},
     "output_type": "execute_result"
    }
   ],
   "source": [
    "data_2"
   ]
  },
  {
   "cell_type": "code",
   "execution_count": 27,
   "metadata": {},
   "outputs": [],
   "source": [
    "\n",
    "# Scale the data to a range of 0 to ( 3.14 /2 ) the default upper limit\n",
    "s_data_1 = ScaleData(data_1)\n",
    "# s_data\n",
    "\n",
    "s_data_2 = ScaleData(data_2)"
   ]
  },
  {
   "cell_type": "code",
   "execution_count": 28,
   "metadata": {},
   "outputs": [],
   "source": [
    "\n",
    "# Compute the K-means clustering with 2 clusters, 100 iterations and seed 42 (default value)\n",
    "centeriod, labels = Kmeans(s_data_1, 2, 100, r=42)\n",
    "# labels"
   ]
  },
  {
   "cell_type": "code",
   "execution_count": 29,
   "metadata": {},
   "outputs": [],
   "source": [
    "# De-Scale the data to the original range\n",
    "De_centeriod = DeScaleData(centeriod,data)"
   ]
  },
  {
   "cell_type": "code",
   "execution_count": 30,
   "metadata": {},
   "outputs": [
    {
     "data": {
      "image/png": "[encoded data removed]",
      "text/plain": [
       "<Figure size 640x480 with 1 Axes>"
      ]
     },
     "metadata": {},
     "output_type": "display_data"
    }
   ],
   "source": [
    "\n",
    "# Draw the cluster plot\n",
    "PlotKmeans(data_1, De_centeriod, labels)\n"
   ]
  },
  {
   "cell_type": "code",
   "execution_count": 31,
   "metadata": {},
   "outputs": [
    {
     "name": "stderr",
     "output_type": "stream",
     "text": [
      "C:\\Users\\AHMED OSAMA\\AppData\\Local\\Temp\\ipykernel_11208\\2608492390.py:29: DeprecationWarning: Conversion of an array with ndim > 0 to a scalar is deprecated, and will error in future. Ensure you extract a single element from your array before performing this operation. (Deprecated NumPy 1.25.)\n",
      "  rx = RYGate(float(i)).to_matrix()\n"
     ]
    },
    {
     "data": {
      "text/plain": [
       "array([0, 0, 0, 0, 0, 0, 0, 0, 0, 0, 0, 0, 0, 0, 0, 0, 0, 0, 0, 0, 0, 0,\n",
       "       0, 0, 0, 0, 0, 0, 0, 0, 0, 0, 0, 0, 0, 0, 0, 0, 0, 0, 0, 0, 0, 0,\n",
       "       0, 0, 0, 0, 0, 0, 0, 0, 0, 0, 0, 0, 0, 0, 0, 0], dtype=int64)"
      ]
     },
     "execution_count": 31,
     "metadata": {},
     "output_type": "execute_result"
    }
   ],
   "source": [
    "#prediction\n",
    "test_labels=predict(data_2, De_centeriod)\n",
    "test_labels"
   ]
  }
 ],
 "metadata": {
  "kernelspec": {
   "display_name": "Python 3",
   "language": "python",
   "name": "python3"
  },
  "language_info": {
   "codemirror_mode": {
    "name": "ipython",
    "version": 3
   },
   "file_extension": ".py",
   "mimetype": "text/x-python",
   "name": "python",
   "nbconvert_exporter": "python",
   "pygments_lexer": "ipython3",
   "version": "3.11.9"
  }
 },
 "nbformat": 4,
 "nbformat_minor": 2
}
